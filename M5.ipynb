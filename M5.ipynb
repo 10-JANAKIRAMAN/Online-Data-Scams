{
 "cells": [
  {
   "cell_type": "code",
   "execution_count": 1,
   "id": "a590b469",
   "metadata": {},
   "outputs": [],
   "source": [
    "import numpy as np\n",
    "import pandas as pd\n"
   ]
  },
  {
   "cell_type": "code",
   "execution_count": 2,
   "id": "5a911948",
   "metadata": {},
   "outputs": [],
   "source": [
    "data=pd.read_csv(\"r_or_f.csv\")"
   ]
  },
  {
   "cell_type": "code",
   "execution_count": 3,
   "id": "1583894c",
   "metadata": {},
   "outputs": [
    {
     "data": {
      "text/html": [
       "<div>\n",
       "<style scoped>\n",
       "    .dataframe tbody tr th:only-of-type {\n",
       "        vertical-align: middle;\n",
       "    }\n",
       "\n",
       "    .dataframe tbody tr th {\n",
       "        vertical-align: top;\n",
       "    }\n",
       "\n",
       "    .dataframe thead th {\n",
       "        text-align: right;\n",
       "    }\n",
       "</style>\n",
       "<table border=\"1\" class=\"dataframe\">\n",
       "  <thead>\n",
       "    <tr style=\"text-align: right;\">\n",
       "      <th></th>\n",
       "      <th>Unnamed: 0</th>\n",
       "      <th>job_id</th>\n",
       "      <th>title</th>\n",
       "      <th>location</th>\n",
       "      <th>department</th>\n",
       "      <th>salary_range</th>\n",
       "      <th>company_profile</th>\n",
       "      <th>description</th>\n",
       "      <th>requirements</th>\n",
       "      <th>benefits</th>\n",
       "      <th>telecommuting</th>\n",
       "      <th>has_company_logo</th>\n",
       "      <th>has_questions</th>\n",
       "      <th>employment_type</th>\n",
       "      <th>required_experience</th>\n",
       "      <th>required_education</th>\n",
       "      <th>industry</th>\n",
       "      <th>function</th>\n",
       "      <th>fraudulent</th>\n",
       "    </tr>\n",
       "  </thead>\n",
       "  <tbody>\n",
       "    <tr>\n",
       "      <th>0</th>\n",
       "      <td>0</td>\n",
       "      <td>7</td>\n",
       "      <td>Head of Content (m/f)</td>\n",
       "      <td>DE, BE, Berlin</td>\n",
       "      <td>ANDROIDPIT</td>\n",
       "      <td>20000-28000</td>\n",
       "      <td>Founded in 2009, the Fonpit AG rose with its i...</td>\n",
       "      <td>Your Responsibilities: Manage the English-spea...</td>\n",
       "      <td>Your Know-How:                                ...</td>\n",
       "      <td>Your Benefits: Being part of a fast-growing co...</td>\n",
       "      <td>0</td>\n",
       "      <td>1</td>\n",
       "      <td>1</td>\n",
       "      <td>Full-time</td>\n",
       "      <td>Mid-Senior level</td>\n",
       "      <td>Master's Degree</td>\n",
       "      <td>Online Media</td>\n",
       "      <td>Management</td>\n",
       "      <td>REAL</td>\n",
       "    </tr>\n",
       "    <tr>\n",
       "      <th>1</th>\n",
       "      <td>1</td>\n",
       "      <td>16</td>\n",
       "      <td>VP of Sales - Vault Dragon</td>\n",
       "      <td>SG, 01, Singapore</td>\n",
       "      <td>Sales</td>\n",
       "      <td>120000-150000</td>\n",
       "      <td>Jungle Ventures is the leading Singapore based...</td>\n",
       "      <td>About Vault Dragon Vault Dragon is Dropbox for...</td>\n",
       "      <td>Key Superpowers3-5 years of high-pressure sale...</td>\n",
       "      <td>Basic: SGD 120,000Equity negotiable for a rock...</td>\n",
       "      <td>0</td>\n",
       "      <td>1</td>\n",
       "      <td>1</td>\n",
       "      <td>Full-time</td>\n",
       "      <td>Executive</td>\n",
       "      <td>Bachelor's Degree</td>\n",
       "      <td>Facilities Services</td>\n",
       "      <td>Sales</td>\n",
       "      <td>REAL</td>\n",
       "    </tr>\n",
       "    <tr>\n",
       "      <th>2</th>\n",
       "      <td>2</td>\n",
       "      <td>24</td>\n",
       "      <td>Vice President, Sales and Sponsorship (Busines...</td>\n",
       "      <td>US, CA, Carlsbad</td>\n",
       "      <td>Businessfriend.com</td>\n",
       "      <td>100000-120000</td>\n",
       "      <td>WDM Group is an innovative, forward thinking d...</td>\n",
       "      <td>#URL_eda2500ddcedb60957fcd7f5b164e092966f8c4e8...</td>\n",
       "      <td>Job Requirements:A reputation as a \"go-getter\"...</td>\n",
       "      <td>Businessfriend will offer a competitive six fi...</td>\n",
       "      <td>0</td>\n",
       "      <td>1</td>\n",
       "      <td>0</td>\n",
       "      <td>Full-time</td>\n",
       "      <td>Executive</td>\n",
       "      <td>Unspecified</td>\n",
       "      <td>Internet</td>\n",
       "      <td>Sales</td>\n",
       "      <td>REAL</td>\n",
       "    </tr>\n",
       "    <tr>\n",
       "      <th>3</th>\n",
       "      <td>3</td>\n",
       "      <td>99</td>\n",
       "      <td>IC&amp;E Technician</td>\n",
       "      <td>US, , Stocton, CA</td>\n",
       "      <td>Oil &amp; Energy</td>\n",
       "      <td>95000-115000</td>\n",
       "      <td>...</td>\n",
       "      <td>IC&amp;amp;E Technician | Bakersfield, CA Mt. Poso...</td>\n",
       "      <td>QualificationsKnowledge, Skills &amp;amp; Abilitie...</td>\n",
       "      <td>BENEFITSWhat is offered:Competitive compensati...</td>\n",
       "      <td>0</td>\n",
       "      <td>1</td>\n",
       "      <td>1</td>\n",
       "      <td>Full-time</td>\n",
       "      <td>Mid-Senior level</td>\n",
       "      <td>High School or equivalent</td>\n",
       "      <td>Oil &amp; Energy</td>\n",
       "      <td>Other</td>\n",
       "      <td>FAKE</td>\n",
       "    </tr>\n",
       "    <tr>\n",
       "      <th>4</th>\n",
       "      <td>4</td>\n",
       "      <td>103</td>\n",
       "      <td>Marketing Administrator</td>\n",
       "      <td>GB, WAR, Coventry</td>\n",
       "      <td>Marketplace</td>\n",
       "      <td>15000-18000</td>\n",
       "      <td>Renewable Energy and Environmental Protection ...</td>\n",
       "      <td>The job is to support the growth of the #URL_9...</td>\n",
       "      <td>Computer literateAble to work with HTML, altho...</td>\n",
       "      <td>For a suitably motivated and success orientate...</td>\n",
       "      <td>1</td>\n",
       "      <td>1</td>\n",
       "      <td>0</td>\n",
       "      <td>Full-time</td>\n",
       "      <td>Entry level</td>\n",
       "      <td>Bachelor's Degree</td>\n",
       "      <td>Internet</td>\n",
       "      <td>Marketing</td>\n",
       "      <td>REAL</td>\n",
       "    </tr>\n",
       "  </tbody>\n",
       "</table>\n",
       "</div>"
      ],
      "text/plain": [
       "   Unnamed: 0  job_id                                              title  \\\n",
       "0           0       7                              Head of Content (m/f)   \n",
       "1           1      16                         VP of Sales - Vault Dragon   \n",
       "2           2      24  Vice President, Sales and Sponsorship (Busines...   \n",
       "3           3      99                                    IC&E Technician   \n",
       "4           4     103                            Marketing Administrator   \n",
       "\n",
       "            location          department   salary_range  \\\n",
       "0     DE, BE, Berlin          ANDROIDPIT    20000-28000   \n",
       "1  SG, 01, Singapore               Sales  120000-150000   \n",
       "2   US, CA, Carlsbad  Businessfriend.com  100000-120000   \n",
       "3  US, , Stocton, CA        Oil & Energy   95000-115000   \n",
       "4  GB, WAR, Coventry         Marketplace    15000-18000   \n",
       "\n",
       "                                     company_profile  \\\n",
       "0  Founded in 2009, the Fonpit AG rose with its i...   \n",
       "1  Jungle Ventures is the leading Singapore based...   \n",
       "2  WDM Group is an innovative, forward thinking d...   \n",
       "3                                                ...   \n",
       "4  Renewable Energy and Environmental Protection ...   \n",
       "\n",
       "                                         description  \\\n",
       "0  Your Responsibilities: Manage the English-spea...   \n",
       "1  About Vault Dragon Vault Dragon is Dropbox for...   \n",
       "2  #URL_eda2500ddcedb60957fcd7f5b164e092966f8c4e8...   \n",
       "3  IC&amp;E Technician | Bakersfield, CA Mt. Poso...   \n",
       "4  The job is to support the growth of the #URL_9...   \n",
       "\n",
       "                                        requirements  \\\n",
       "0  Your Know-How:                                ...   \n",
       "1  Key Superpowers3-5 years of high-pressure sale...   \n",
       "2  Job Requirements:A reputation as a \"go-getter\"...   \n",
       "3  QualificationsKnowledge, Skills &amp; Abilitie...   \n",
       "4  Computer literateAble to work with HTML, altho...   \n",
       "\n",
       "                                            benefits  telecommuting  \\\n",
       "0  Your Benefits: Being part of a fast-growing co...              0   \n",
       "1  Basic: SGD 120,000Equity negotiable for a rock...              0   \n",
       "2  Businessfriend will offer a competitive six fi...              0   \n",
       "3  BENEFITSWhat is offered:Competitive compensati...              0   \n",
       "4  For a suitably motivated and success orientate...              1   \n",
       "\n",
       "   has_company_logo  has_questions employment_type required_experience  \\\n",
       "0                 1              1       Full-time    Mid-Senior level   \n",
       "1                 1              1       Full-time           Executive   \n",
       "2                 1              0       Full-time           Executive   \n",
       "3                 1              1       Full-time    Mid-Senior level   \n",
       "4                 1              0       Full-time         Entry level   \n",
       "\n",
       "          required_education             industry    function fraudulent  \n",
       "0            Master's Degree         Online Media  Management       REAL  \n",
       "1          Bachelor's Degree  Facilities Services       Sales       REAL  \n",
       "2                Unspecified             Internet       Sales       REAL  \n",
       "3  High School or equivalent         Oil & Energy       Other       FAKE  \n",
       "4          Bachelor's Degree             Internet   Marketing       REAL  "
      ]
     },
     "execution_count": 3,
     "metadata": {},
     "output_type": "execute_result"
    }
   ],
   "source": [
    "data.head()"
   ]
  },
  {
   "cell_type": "code",
   "execution_count": 4,
   "id": "e16fdf2d",
   "metadata": {},
   "outputs": [
    {
     "data": {
      "text/plain": [
       "(1404, 19)"
      ]
     },
     "execution_count": 4,
     "metadata": {},
     "output_type": "execute_result"
    }
   ],
   "source": [
    "data.shape"
   ]
  },
  {
   "cell_type": "code",
   "execution_count": 5,
   "id": "f7d330a9",
   "metadata": {},
   "outputs": [
    {
     "data": {
      "text/plain": [
       "Index(['Unnamed: 0', 'job_id', 'title', 'location', 'department',\n",
       "       'salary_range', 'company_profile', 'description', 'requirements',\n",
       "       'benefits', 'telecommuting', 'has_company_logo', 'has_questions',\n",
       "       'employment_type', 'required_experience', 'required_education',\n",
       "       'industry', 'function', 'fraudulent'],\n",
       "      dtype='object')"
      ]
     },
     "execution_count": 5,
     "metadata": {},
     "output_type": "execute_result"
    }
   ],
   "source": [
    "data.columns"
   ]
  },
  {
   "cell_type": "code",
   "execution_count": 6,
   "id": "6d709dd9",
   "metadata": {},
   "outputs": [
    {
     "data": {
      "text/plain": [
       "(1404, 19)"
      ]
     },
     "execution_count": 6,
     "metadata": {},
     "output_type": "execute_result"
    }
   ],
   "source": [
    "data1=data.dropna()\n",
    "data1.shape"
   ]
  },
  {
   "cell_type": "code",
   "execution_count": 7,
   "id": "89d38b56",
   "metadata": {},
   "outputs": [
    {
     "name": "stdout",
     "output_type": "stream",
     "text": [
      "   Unnamed: 0  job_id                                              title  \\\n",
      "0           0       7                              Head of Content (m/f)   \n",
      "1           1      16                         VP of Sales - Vault Dragon   \n",
      "2           2      24  Vice President, Sales and Sponsorship (Busines...   \n",
      "3           3      99                                    IC&E Technician   \n",
      "4           4     103                            Marketing Administrator   \n",
      "\n",
      "            location          department   salary_range  \\\n",
      "0     DE, BE, Berlin          ANDROIDPIT    20000-28000   \n",
      "1  SG, 01, Singapore               Sales  120000-150000   \n",
      "2   US, CA, Carlsbad  Businessfriend.com  100000-120000   \n",
      "3  US, , Stocton, CA        Oil & Energy   95000-115000   \n",
      "4  GB, WAR, Coventry         Marketplace    15000-18000   \n",
      "\n",
      "                                     company_profile  \\\n",
      "0  Founded in 2009, the Fonpit AG rose with its i...   \n",
      "1  Jungle Ventures is the leading Singapore based...   \n",
      "2  WDM Group is an innovative, forward thinking d...   \n",
      "3                                                ...   \n",
      "4  Renewable Energy and Environmental Protection ...   \n",
      "\n",
      "                                         description  \\\n",
      "0  Your Responsibilities: Manage the English-spea...   \n",
      "1  About Vault Dragon Vault Dragon is Dropbox for...   \n",
      "2  #URL_eda2500ddcedb60957fcd7f5b164e092966f8c4e8...   \n",
      "3  IC&amp;E Technician | Bakersfield, CA Mt. Poso...   \n",
      "4  The job is to support the growth of the #URL_9...   \n",
      "\n",
      "                                        requirements  \\\n",
      "0  Your Know-How:                                ...   \n",
      "1  Key Superpowers3-5 years of high-pressure sale...   \n",
      "2  Job Requirements:A reputation as a \"go-getter\"...   \n",
      "3  QualificationsKnowledge, Skills &amp; Abilitie...   \n",
      "4  Computer literateAble to work with HTML, altho...   \n",
      "\n",
      "                                            benefits  telecommuting  \\\n",
      "0  Your Benefits: Being part of a fast-growing co...              0   \n",
      "1  Basic: SGD 120,000Equity negotiable for a rock...              0   \n",
      "2  Businessfriend will offer a competitive six fi...              0   \n",
      "3  BENEFITSWhat is offered:Competitive compensati...              0   \n",
      "4  For a suitably motivated and success orientate...              1   \n",
      "\n",
      "   has_company_logo  has_questions employment_type required_experience  \\\n",
      "0                 1              1       Full-time    Mid-Senior level   \n",
      "1                 1              1       Full-time           Executive   \n",
      "2                 1              0       Full-time           Executive   \n",
      "3                 1              1       Full-time    Mid-Senior level   \n",
      "4                 1              0       Full-time         Entry level   \n",
      "\n",
      "          required_education             industry    function fraudulent  \n",
      "0            Master's Degree         Online Media  Management       REAL  \n",
      "1          Bachelor's Degree  Facilities Services       Sales       REAL  \n",
      "2                Unspecified             Internet       Sales       REAL  \n",
      "3  High School or equivalent         Oil & Energy       Other       FAKE  \n",
      "4          Bachelor's Degree             Internet   Marketing       REAL  \n"
     ]
    }
   ],
   "source": [
    "\n",
    "print(data1.head())"
   ]
  },
  {
   "cell_type": "code",
   "execution_count": 8,
   "id": "8d81d491",
   "metadata": {},
   "outputs": [
    {
     "data": {
      "text/plain": [
       "array(['REAL', 'FAKE'], dtype=object)"
      ]
     },
     "execution_count": 8,
     "metadata": {},
     "output_type": "execute_result"
    }
   ],
   "source": [
    "data1.fraudulent.unique()"
   ]
  },
  {
   "cell_type": "code",
   "execution_count": 9,
   "id": "553559b5",
   "metadata": {},
   "outputs": [],
   "source": [
    "import matplotlib.pyplot as plt\n",
    "import seaborn as sns\n"
   ]
  },
  {
   "cell_type": "code",
   "execution_count": 10,
   "id": "385e2aa3",
   "metadata": {},
   "outputs": [
    {
     "data": {
      "text/plain": [
       "Text(0.5, 1.0, 'Distribution of fraudulent')"
      ]
     },
     "execution_count": 10,
     "metadata": {},
     "output_type": "execute_result"
    },
    {
     "data": {
      "image/png": "[encoded data removed]",
      "text/plain": [
       "<Figure size 432x288 with 1 Axes>"
      ]
     },
     "metadata": {
      "needs_background": "light"
     },
     "output_type": "display_data"
    }
   ],
   "source": [
    "sns.countplot(x = \"fraudulent\", data=data1)\n",
    "data1.loc[:, 'fraudulent'].value_counts()\n",
    "plt.title('Distribution of fraudulent')"
   ]
  },
  {
   "cell_type": "code",
   "execution_count": 11,
   "id": "046e93e2",
   "metadata": {},
   "outputs": [
    {
     "data": {
      "text/plain": [
       "REAL    702\n",
       "FAKE    702\n",
       "Name: fraudulent, dtype: int64"
      ]
     },
     "execution_count": 11,
     "metadata": {},
     "output_type": "execute_result"
    }
   ],
   "source": [
    "data1.fraudulent.value_counts()"
   ]
  },
  {
   "cell_type": "code",
   "execution_count": 12,
   "id": "5933a5b8",
   "metadata": {},
   "outputs": [],
   "source": [
    "import re\n",
    "import string\n",
    "import nltk\n",
    "from nltk.corpus import stopwords\n",
    "stopword=set(stopwords.words('english'))\n",
    "stemmer = nltk.SnowballStemmer(\"english\")\n"
   ]
  },
  {
   "cell_type": "code",
   "execution_count": 13,
   "id": "4bf8e52a",
   "metadata": {},
   "outputs": [],
   "source": [
    "def clean(text):\n",
    "    text = str(text).lower()\n",
    "    text = re.sub('\\[.*?\\]', '', text)\n",
    "    text = re.sub('https?://\\S+|www\\.\\S+', '', text)\n",
    "    text = re.sub('<.*?>+', '', text)\n",
    "    text = re.sub('[%s]' % re.escape(string.punctuation), '', text)\n",
    "    text = re.sub('\\n', '', text)\n",
    "    text = re.sub('\\w*\\d\\w*', '', text)\n",
    "    text = [word for word in text.split(' ') if word not in stopword]\n",
    "    text=\" \".join(text)\n",
    "    text = [stemmer.stem(word) for word in text.split(' ')]\n",
    "    text=\" \".join(text)\n",
    "    return text\n",
    "data[\"description\"] = data[\"description\"].apply(clean)"
   ]
  },
  {
   "cell_type": "code",
   "execution_count": 14,
   "id": "5288bd1d",
   "metadata": {},
   "outputs": [],
   "source": [
    "x = np.array(data1[\"description\"])\n",
    "y = np.array(data1[\"fraudulent\"])"
   ]
  },
  {
   "cell_type": "code",
   "execution_count": 15,
   "id": "ee09eac3",
   "metadata": {},
   "outputs": [
    {
     "data": {
      "text/plain": [
       "array(['Your Responsibilities:\\xa0Manage the English-speaking editorial team and build a team of best-in-class editorsSet up content creation schedules and ensure deadlines are adhered toResearch and write about the latest tech topics and news in relation to the Android ecosystemEnsure that the content on the site is of a consistently high qualityBe the face and voice of #URL_874846adb69d98865d05ec57ce2425d9e363ef71e0c8436e59e86a136a508716#',\n",
       "       \"About Vault Dragon\\xa0Vault Dragon is Dropbox for your physical stuff - a startup that is changing the aesthetic face of Singapore by creating more space in households and offices. We also save countless doctors, lawyers and professional services firms everyday from the catastrophe of document storage and management. Singapore Business Review magazine says we are one of the 20 hottest startups in Singapore. Don’t believe a word they are saying, because we are THE hottest startup in Singapore.Our crusade against the lack of space in Singapore is supported by top VC funds, including Jungle Ventures, 500 startups and Golden Gate ventures. Vault Dragon is the hero Singapore deserves and the one it needs right now, come and join!Job DescriptionVault Dragon is looking for a VP of Sales who will 'roll up their sleeves' and drive sales to both B2B and B2C customers. We need someone as persistent as Seth (Boiler Room) and as driven as Jordan (Wolf of Wall Street). If you don't relate, then you can stop reading. But if “No” is not a word in your dictionary, and you love selling like we love pancakes, then this is definitely the job for you. The only boundary when it comes to working with us is your own imagination.The VP of Sales will (breathe in) drive planning, reporting, quota setting and management, sales process optimization, sales job design, sales training, sales program implementation, sales compensation design and administration, and recruiting and selection of sales force talent (breathe out). In addition they are responsible for the overall productivity and effectiveness of the sales organization. Reporting to the Founders, the VP of Sales\\xa0also works closely with internal and external stakeholders to ensure the appropriate objectives and priorities are enabled within the sales organization.ResponsibilitiesUnleash the Dragon and and lead the sales charge for our awesome service. We are a rapidly growing startup and it's ground zero for a sales master to come into their own how they always dreamed of. You aren't going to be micro-managed here, so how you drive sales is up to you, so long as no bunnies are harmed in the process.We are looking for a change maker who knows what they want and how to do it, but high-level responsibilities include:Smash sales targets and set new milestonesDevelop quality sales material yourselfGenerate a high volume of sales related activity including cold calls, presentations, proposals, and client relationship developmentDevelop account strategies to drive long term revenue growth and upsellImplimenting enabling technology including CRM (and ensuring compliance)Hiring and training and incentivising your own sales team for both phone and field salesConceiving and implimenting sales processes that get resultsCoordinating sales forecasting, planning, and budgeting processes with the Founders in alignment with the business plan KPIs and continuous reportingDeveloping a 'Sales bible' to be leveraged as we expand outwards\",\n",
       "       '#URL_eda2500ddcedb60957fcd7f5b164e092966f8c4e8fb89ce70a16bea1545a297d#, an up and coming social media company, is seeking a\\xa0VP, Sales and Sponsorship executive to be responsible for creating and selling branded, high-impact social media marketing and sponsorship programs for its key product, “The Ultimate Business App.\"#URL_eda2500ddcedb60957fcd7f5b164e092966f8c4e8fb89ce70a16bea1545a297d#\\xa0combines the ability to discover, connect and share with fellow professionals and offers the unique ability to communicate, manage, store and notate all aspects of your working life from one website and one mobile app. It’s positioned to be the world\\'s newest social networking platform for professionals and the companies they work for.Do you have what it takes to be part of “The Next Big Thing” to hit social media? Read on…Responsibilities:Create, package and sell marketing and sponsorship opportunities within the Businessfriend suite of connection and communication tools to boost web site traffic and overall usage;Craft sales presentations that creatively and distinctly differentiate and communicate unique Businessfriend assets to targeted prospects;Educate / position Businessfriend assets and marketing capabilities to the sponsor/ advertiser marketplace; demonstrate the branding values of Businessfriend to create unique marketing value with company assets;Structure, price, successfully negotiate and close all deals and arrangements;Meet or exceed revenue and key account goals;Oversee sponsor contracts, invoicing, and accounts receivable or develop processes to ensure execution and collections;Responsible for working with senior leadership to create annual budgets, including sales forecasts and expenses.',\n",
       "       ...,\n",
       "       'We are seeking a full time Payroll Clerk to manage day to day accounting for our operation.PAY SCALE : $25/hr• Maintains financial controls including shrink, payroll and other operating expenses, rebates .• Maintaining proper inventory controls, facilitate inventory transactions and maintain compliance standards for shrink control• Monitor sales activities to ensure that customers receive satisfactory service.',\n",
       "       'Job DescriptionVerify, obtain approvals and pay invoices; bill and collect outstanding revenue in a timely, accurate manner in accordance with accounting policies and procedures.Potential Career PathStaff Accountant – Regional Accountant – ControllerEssential Job FunctionsPrepare cash discrepancy reports.Retrieve and process deposits in accordance with hotel standards.Maintain house bank and conduct transactions according to established processes and policies.Issue and redeem cashier banks and conduct audits as needed.Process petty cash receipts and reimbursements.Assist with credit-related activities, including processing of credit applications.Provide customers with accurate and timely invoices, statements, and schedules.Maintain an efficient collection process to include an organized filing and tracing system.Monitor guest ledger, advance deposit ledger and any other related ledgers to ensure proper internal control.Be aware of guest satisfaction scores and work toward increasing departmental and overall guest satisfaction.Follow sustainability guidelines and practices related to HHM’s EarthView program.Practice safe work habits to ensure safety.Perform other duties as requested by management.',\n",
       "       \"\\xa0 Product Development Engineer, PLC TaiwanWork closely with ODM's to deliver required and qualified products on schedule; this includes new designs, using new chipsets, to maintain the competitiveness of the product line as well as follow-on firmware enhancement to improve the functionality or usability of the networking products.Manage the suppliers' product development process.Perform verification testing of product features and performance.Provide input for manuals, help files, application notes and tech support web pages.Reply to any 3rd level technical support escalations through technical support.Support ISP customers in debugging, trouble shooting and products verification.\\xa0\"],\n",
       "      dtype=object)"
      ]
     },
     "execution_count": 15,
     "metadata": {},
     "output_type": "execute_result"
    }
   ],
   "source": [
    "x"
   ]
  },
  {
   "cell_type": "code",
   "execution_count": 16,
   "id": "d464e391",
   "metadata": {},
   "outputs": [
    {
     "data": {
      "text/plain": [
       "array(['REAL', 'REAL', 'REAL', ..., 'FAKE', 'FAKE', 'FAKE'], dtype=object)"
      ]
     },
     "execution_count": 16,
     "metadata": {},
     "output_type": "execute_result"
    }
   ],
   "source": [
    "y"
   ]
  },
  {
   "cell_type": "code",
   "execution_count": 17,
   "id": "2448c004",
   "metadata": {},
   "outputs": [],
   "source": [
    "from sklearn.feature_extraction.text import CountVectorizer\n",
    "from sklearn.model_selection import train_test_split"
   ]
  },
  {
   "cell_type": "code",
   "execution_count": 18,
   "id": "55745820",
   "metadata": {},
   "outputs": [],
   "source": [
    "cv = CountVectorizer()\n",
    "X = cv.fit_transform(x) # Fit the Data\n",
    "X_train, X_test, y_train, y_test = train_test_split(X, y, test_size=0.33, random_state=42)\n"
   ]
  },
  {
   "cell_type": "code",
   "execution_count": 19,
   "id": "4643c788",
   "metadata": {},
   "outputs": [
    {
     "data": {
      "text/plain": [
       "RandomForestClassifier()"
      ]
     },
     "execution_count": 19,
     "metadata": {},
     "output_type": "execute_result"
    }
   ],
   "source": [
    "from sklearn.ensemble import RandomForestClassifier\n",
    "clf = RandomForestClassifier()\n",
    "clf.fit(X_train,y_train)\n"
   ]
  },
  {
   "cell_type": "code",
   "execution_count": 20,
   "id": "3973eb1d",
   "metadata": {},
   "outputs": [],
   "source": [
    "pre=clf.predict(X_test)"
   ]
  },
  {
   "cell_type": "code",
   "execution_count": 21,
   "id": "15313fec",
   "metadata": {},
   "outputs": [
    {
     "name": "stdout",
     "output_type": "stream",
     "text": [
      "99.35344827586206\n"
     ]
    }
   ],
   "source": [
    "from sklearn.metrics import accuracy_score\n",
    "print(accuracy_score(y_test,pre)*100)"
   ]
  },
  {
   "cell_type": "code",
   "execution_count": 28,
   "id": "152c86d1",
   "metadata": {},
   "outputs": [
    {
     "name": "stdout",
     "output_type": "stream",
     "text": [
      "ENTER THE SENTENCE:Supermarket manager required At night . hurry up \n"
     ]
    }
   ],
   "source": [
    "input_word=input(\"ENTER THE SENTENCE:\")"
   ]
  },
  {
   "cell_type": "code",
   "execution_count": 29,
   "id": "60c329ea",
   "metadata": {},
   "outputs": [
    {
     "name": "stdout",
     "output_type": "stream",
     "text": [
      "['FAKE']\n"
     ]
    }
   ],
   "source": [
    "data = cv.transform([input_word]).toarray()\n",
    "print(clf.predict(data))"
   ]
  },
  {
   "cell_type": "code",
   "execution_count": null,
   "id": "1d7fe751",
   "metadata": {},
   "outputs": [],
   "source": []
  }
 ],
 "metadata": {
  "kernelspec": {
   "display_name": "Python 3 (ipykernel)",
   "language": "python",
   "name": "python3"
  },
  "language_info": {
   "codemirror_mode": {
    "name": "ipython",
    "version": 3
   },
   "file_extension": ".py",
   "mimetype": "text/x-python",
   "name": "python",
   "nbconvert_exporter": "python",
   "pygments_lexer": "ipython3",
   "version": "3.9.7"
  }
 },
 "nbformat": 4,
 "nbformat_minor": 5
}
